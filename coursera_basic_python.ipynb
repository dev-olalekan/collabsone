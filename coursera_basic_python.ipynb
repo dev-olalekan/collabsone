{
  "cells": [
    {
      "cell_type": "code",
      "execution_count": null,
      "metadata": {
        "colab": {
          "base_uri": "https://localhost:8080/"
        },
        "id": "dhYK0BvwLhhz",
        "outputId": "e2952431-de12-4931-b4e9-2f81fb22c0a9"
      },
      "outputs": [
        {
          "name": "stdout",
          "output_type": "stream",
          "text": [
            "hello world!\n"
          ]
        }
      ],
      "source": [
        "#using print function\n",
        "print(\"hello world!\")"
      ]
    },
    {
      "cell_type": "code",
      "execution_count": null,
      "metadata": {
        "colab": {
          "base_uri": "https://localhost:8080/"
        },
        "id": "4INCcoUBqZQS",
        "outputId": "5226b84e-54f3-448f-9131-391ec7562b4a"
      },
      "outputs": [
        {
          "name": "stdout",
          "output_type": "stream",
          "text": [
            "<class 'str'>\n"
          ]
        }
      ],
      "source": [
        "#using variables\n",
        "greetings = \"how are you\"\n",
        "print(type(greetings))"
      ]
    },
    {
      "cell_type": "code",
      "execution_count": null,
      "metadata": {
        "colab": {
          "base_uri": "https://localhost:8080/"
        },
        "id": "hQWoo4n4D33X",
        "outputId": "4d62c59e-b3fd-4bb4-a923-4a9d1c875908"
      },
      "outputs": [
        {
          "name": "stdout",
          "output_type": "stream",
          "text": [
            "h1234al\n",
            "rt23837bg\n"
          ]
        }
      ],
      "source": [
        "#reassign a variable\n",
        "device_id = \"h1234al\"\n",
        "print(device_id)\n",
        "device_id = \"rt23837bg\"\n",
        "print(device_id)"
      ]
    },
    {
      "cell_type": "code",
      "execution_count": null,
      "metadata": {
        "colab": {
          "base_uri": "https://localhost:8080/"
        },
        "id": "IyvQDv7mEvmE",
        "outputId": "15d113b1-96ef-49b3-aaaf-a0cbe603ed17"
      },
      "outputs": [
        {
          "name": "stdout",
          "output_type": "stream",
          "text": [
            "Previous username: nzhao\n",
            "Current username: zhao2\n"
          ]
        }
      ],
      "source": [
        "#reassign a variable\n",
        "username = \"nzhao\"\n",
        "old_username = username\n",
        "username = \"zhao2\"\n",
        "print(\"Previous username:\", old_username)\n",
        "print(\"Current username:\", username)"
      ]
    },
    {
      "cell_type": "code",
      "execution_count": null,
      "metadata": {
        "colab": {
          "base_uri": "https://localhost:8080/"
        },
        "id": "_4y3Nb6dGSlj",
        "outputId": "06de99d3-89d2-4c21-cfb4-0220d403b951"
      },
      "outputs": [
        {
          "name": "stdout",
          "output_type": "stream",
          "text": [
            "['cars', 'house', 5000, True]\n"
          ]
        }
      ],
      "source": [
        "# Assign `username_list` to the list of usernames who are allowed to access the device\n",
        "\n",
        "username_list = [\"cars\", \"house\", 5000, True]\n",
        "\n",
        "# Display `username_list`\n",
        "\n",
        "print(username_list)"
      ]
    },
    {
      "cell_type": "code",
      "execution_count": null,
      "metadata": {
        "colab": {
          "base_uri": "https://localhost:8080/"
        },
        "id": "G9qoFfocGxkD",
        "outputId": "b2ee2677-3733-4beb-e570-da297ac5bcee"
      },
      "outputs": [
        {
          "name": "stdout",
          "output_type": "stream",
          "text": [
            "<class 'list'>\n"
          ]
        }
      ],
      "source": [
        "# Assign `username_list` to the list of usernames who are allowed to access the device\n",
        "\n",
        "username_list_type = [\"madebowa\", \"jnguyen\", \"tbecker\", \"nhersh\", \"redwards\"]\n",
        "\n",
        "### YOUR CODE HERE ###\n",
        "print(type(username_list_type))\n"
      ]
    },
    {
      "cell_type": "code",
      "execution_count": null,
      "metadata": {
        "colab": {
          "base_uri": "https://localhost:8080/"
        },
        "id": "5dSL5r9M-Da6",
        "outputId": "bfcbac9b-356f-4c81-e2da-ee274e69d836"
      },
      "outputs": [
        {
          "name": "stdout",
          "output_type": "stream",
          "text": [
            "['madebowa', 'jnguyen', 'tbecker', 'nhersh', 'redwards']\n"
          ]
        }
      ],
      "source": [
        "#As you continue your work, you're provided a list of usernames of users who are allowed to access the device.\n",
        "#The usernames with this access are \"madebowa\", \"jnguyen\", \"tbecker\", \"nhersh\", and \"redwards\".\n",
        "#In this task, create a variable called username_list. Assign a list with the approved usernames to this variable.\n",
        "#Then, display the value of the username_list variable.\n",
        "\n",
        "# Assign `username_list` to the list of usernames who are allowed to access the device\n",
        "username_list = [\"madebowa\", \"jnguyen\", \"tbecker\", \"nhersh\", \"redwards\"]\n",
        "\n",
        "# Display `username_list`\n",
        "\n",
        "print(username_list)"
      ]
    },
    {
      "cell_type": "code",
      "execution_count": null,
      "metadata": {
        "colab": {
          "base_uri": "https://localhost:8080/"
        },
        "id": "VeslSAeB-6aB",
        "outputId": "d9b1618c-3711-41e9-f019-7f81337d0e44"
      },
      "outputs": [
        {
          "name": "stdout",
          "output_type": "stream",
          "text": [
            "<class 'list'>\n"
          ]
        }
      ],
      "source": [
        "#In this task, find the data type of the username_list.\n",
        "#Store the type in a variable called username_list_type.\n",
        "#Then, display username_list_type to examine the output.\n",
        "\n",
        "# Assign `username_list` to the list of usernames who are allowed to access the device\n",
        "\n",
        "username_list = [\"madebowa\", \"jnguyen\", \"tbecker\", \"nhersh\", \"redwards\"]\n",
        "\n",
        "# Assign `username_list_type` to the data type of `username_list`\n",
        "\n",
        "username_list_type =type(username_list)\n",
        "\n",
        "# Display `username_list_type`\n",
        "\n",
        "print(username_list_type)\n",
        "\n"
      ]
    },
    {
      "cell_type": "code",
      "execution_count": null,
      "metadata": {
        "colab": {
          "base_uri": "https://localhost:8080/"
        },
        "id": "Sum5ggGYAJgf",
        "outputId": "cfe616c7-5e2c-41b7-9927-62be67c420bd"
      },
      "outputs": [
        {
          "name": "stdout",
          "output_type": "stream",
          "text": [
            "['madebowa', 'jnguyen', 'tbecker', 'nhersh', 'redwards']\n",
            "['madebowa', 'jnguyen', 'tbecker', 'nhersh', 'redwards', 'lpope']\n"
          ]
        }
      ],
      "source": [
        "#Now, imagine that\n",
        "#you've been informed that the previous list is not up-to-date and that there is\n",
        "#another employee that now has access to the device. You're given the updated\n",
        "#list of usernames with access, including the new employee, as follows:\n",
        "#\"madebowa\", \"jnguyen\", \"tbecker\", \"nhersh\", \"redwards\", and \"lpope\".\n",
        "#In this task, reassign the variable username_list to the new list. Run the\n",
        "#code to display the list before and after it's been updated to observe the\n",
        "# difference.\n",
        "\n",
        "# Assign `username_list` to the list of usernames who are allowed to access the device\n",
        "username_list = [\"madebowa\", \"jnguyen\", \"tbecker\", \"nhersh\", \"redwards\"]\n",
        "\n",
        "# Display `username_list`\n",
        "print(username_list)\n",
        "\n",
        "# Assign `username_list` to the updated list of usernames who are allowed to access the device\n",
        "username_list = [\"madebowa\", \"jnguyen\", \"tbecker\", \"nhersh\", \"redwards\", \"lpope\"]\n",
        "\n",
        "# Display `username_list`\n",
        "print(username_list)\n"
      ]
    },
    {
      "cell_type": "code",
      "execution_count": null,
      "metadata": {
        "colab": {
          "base_uri": "https://localhost:8080/"
        },
        "id": "tni5_YCCBLKM",
        "outputId": "11f83fb9-d1e1-47de-c8de-1f7350c15aaa"
      },
      "outputs": [
        {
          "name": "stdout",
          "output_type": "stream",
          "text": [
            "<class 'int'>\n"
          ]
        }
      ],
      "source": [
        "#In this task, define a variable called max_logins that represents the maximum\n",
        "#number of login attempts allowed per user. Store the value 3 in this variable.\n",
        "#Then, store its data type in another variable called max_logins_type. Display\n",
        "#max_logins_type to examine the output.\n",
        "\n",
        "# Assign `max_logins` to the value 3\n",
        "max_logins = 3\n",
        "\n",
        "# Assign `max_logins_type` to the data type of `max_logins`\n",
        "\n",
        "max_logins_type = type(max_logins)\n",
        "\n",
        "# Display `max_logins_type`\n",
        "\n",
        "print(max_logins_type)\n"
      ]
    },
    {
      "cell_type": "code",
      "execution_count": null,
      "metadata": {
        "colab": {
          "base_uri": "https://localhost:8080/"
        },
        "id": "j2DSiLMYBfWq",
        "outputId": "d31c9acd-70b7-4960-ca59-adb461b9ce21"
      },
      "outputs": [
        {
          "name": "stdout",
          "output_type": "stream",
          "text": [
            "<class 'int'>\n"
          ]
        }
      ],
      "source": [
        "#In this task, define a variable called login_attempts that represents the current\n",
        "# number of login attempts made by a user. Store the value 2 in this variable.\n",
        "#Then, store its data type in a variable called login_attempts_type.\n",
        "#Display login_attempts_type to observe the output.\n",
        "\n",
        "# Assign `login_attempts` to the value 2\n",
        "\n",
        "login_attempts = 2\n",
        "\n",
        "# Assign `login_attempts_type` to the data type of `login_attempts`\n",
        "login_attempt_type = login_attempts\n",
        "\n",
        "# Display `login_attempts_type`\n",
        "\n",
        "print(type(login_attempt_type))"
      ]
    },
    {
      "cell_type": "code",
      "execution_count": null,
      "metadata": {
        "colab": {
          "base_uri": "https://localhost:8080/"
        },
        "id": "tI6i4uhlB5a4",
        "outputId": "34a63b6a-7a39-4b15-d03c-425daf5eb381"
      },
      "outputs": [
        {
          "name": "stdout",
          "output_type": "stream",
          "text": [
            "False\n"
          ]
        }
      ],
      "source": [
        "#In this task, you'll determine the Boolean value that represents whether\n",
        "#the current number of login attempts a user has made is less than or equal\n",
        "#to the maximum number of login attempts allowed.\n",
        "\n",
        "# Assign `max_logins` to the value 3\n",
        "\n",
        "max_logins = 3\n",
        "\n",
        "# Assign `login_attempts` to the value 2\n",
        "\n",
        "login_attempts = 2\n",
        "\n",
        "# Determine whether the current number of login attempts a user has made is less than or equal to the maximum number of login attempts allowed,\n",
        "# and display the resulting Boolean value\n",
        "\n",
        "print(max_logins <= login_attempts )\n"
      ]
    },
    {
      "cell_type": "code",
      "execution_count": null,
      "metadata": {
        "colab": {
          "base_uri": "https://localhost:8080/"
        },
        "id": "NTmiUbFcCfUS",
        "outputId": "3dff074c-8984-425d-951d-88867538281a"
      },
      "outputs": [
        {
          "name": "stdout",
          "output_type": "stream",
          "text": [
            "True\n"
          ]
        }
      ],
      "source": [
        "#This code continues to check for the Boolean value of whether max_logins is\n",
        "#less than or equal to login_attempts. In this task, reassign other values\n",
        "#to login_attempts. For example, you might choose a value that is higher than\n",
        "#the maximum number of attempts allowed. Observe how the output changes.\n",
        "\n",
        "# Assign `max_logins` to the value 3\n",
        "\n",
        "max_logins = 3\n",
        "\n",
        "# Assign `login_attempts` to a specific value\n",
        "\n",
        "login_attempts = 5\n",
        "\n",
        "# Determine whether the current number of login attempts a user has made is less than or equal to the maximum number of login attempts allowed,\n",
        "# and display the resulting Boolean value\n",
        "\n",
        "print(login_attempts <= max_logins)"
      ]
    },
    {
      "cell_type": "code",
      "execution_count": null,
      "metadata": {
        "colab": {
          "base_uri": "https://localhost:8080/"
        },
        "id": "99NDVngaC3Wd",
        "outputId": "d3c53a06-cfa4-4b2c-f3ff-c061f034919f"
      },
      "outputs": [
        {
          "name": "stdout",
          "output_type": "stream",
          "text": [
            "<class 'bool'>\n"
          ]
        }
      ],
      "source": [
        "#Finally, you can also assign a Boolean value of True or False to a variable.\n",
        "#In this task, you'll create a variable called login_status, which is a Boolean\n",
        "#that represents whether a user is logged in. Assign False to this variable and\n",
        "#store its data type in a variable called login_status_type and display it.\n",
        "\n",
        "# Assign `login_status` to the Boolean value False\n",
        "\n",
        "login_status = True\n",
        "\n",
        "# Assign `login_status_type` to the data type of `login_status`\n",
        "\n",
        "login_status_type = type(login_status)\n",
        "\n",
        "# Display `login_status_type`\n",
        "\n",
        "print(login_status_type)\n"
      ]
    },
    {
      "cell_type": "code",
      "execution_count": null,
      "metadata": {
        "id": "AO1OSnjij5AC"
      },
      "outputs": [],
      "source": []
    }
  ],
  "metadata": {
    "colab": {
      "provenance": []
    },
    "kernelspec": {
      "display_name": "Python 3",
      "name": "python3"
    },
    "language_info": {
      "name": "python"
    }
  },
  "nbformat": 4,
  "nbformat_minor": 0
}
